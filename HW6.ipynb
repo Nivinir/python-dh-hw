{
 "cells": [
  {
   "cell_type": "markdown",
   "metadata": {},
   "source": [
    "# ДЗ6 Оцениваниемое"
   ]
  },
  {
   "cell_type": "markdown",
   "metadata": {},
   "source": [
    "## Задание 1\n"
   ]
  },
  {
   "cell_type": "code",
   "execution_count": 1,
   "metadata": {},
   "outputs": [],
   "source": [
    "string = 'абракадабра фокус покус десятка за курс немедленно появись.'"
   ]
  },
  {
   "cell_type": "markdown",
   "metadata": {},
   "source": [
    "Необходимо написать функцию, которая выделяет все символьные биграммы в этом наборе слов и возвращает их список. "
   ]
  },
  {
   "cell_type": "code",
   "execution_count": 2,
   "metadata": {},
   "outputs": [
    {
     "data": {
      "text/plain": [
       "['аб',\n",
       " 'бр',\n",
       " 'ра',\n",
       " 'ак',\n",
       " 'ка',\n",
       " 'ад',\n",
       " 'да',\n",
       " 'аб',\n",
       " 'бр',\n",
       " 'ра',\n",
       " 'фо',\n",
       " 'ок',\n",
       " 'ку',\n",
       " 'ус',\n",
       " 'по',\n",
       " 'ок',\n",
       " 'ку',\n",
       " 'ус',\n",
       " 'де',\n",
       " 'ес',\n",
       " 'ся',\n",
       " 'ят',\n",
       " 'тк',\n",
       " 'ка',\n",
       " 'за',\n",
       " 'ку',\n",
       " 'ур',\n",
       " 'рс',\n",
       " 'не',\n",
       " 'ем',\n",
       " 'ме',\n",
       " 'ед',\n",
       " 'дл',\n",
       " 'ле',\n",
       " 'ен',\n",
       " 'нн',\n",
       " 'но',\n",
       " 'по',\n",
       " 'оя',\n",
       " 'яв',\n",
       " 'ви',\n",
       " 'ис',\n",
       " 'сь']"
      ]
     },
     "execution_count": 2,
     "metadata": {},
     "output_type": "execute_result"
    }
   ],
   "source": [
    "def bigram_list(s: str):\n",
    "    res = []\n",
    "    for i in range(len(string) - 1):\n",
    "        if str.isalpha(string[i:i+2]):\n",
    "            res.append(string[i:i+2])\n",
    "    return res\n",
    "\n",
    "bigram_list(string)"
   ]
  },
  {
   "cell_type": "markdown",
   "metadata": {},
   "source": [
    "Создать словарь, где ключами будут полученные биграммы, а значениями — их количество в во введенном тексте"
   ]
  },
  {
   "cell_type": "code",
   "execution_count": 3,
   "metadata": {
    "scrolled": false
   },
   "outputs": [
    {
     "data": {
      "text/plain": [
       "{'аб': 2,\n",
       " 'ад': 1,\n",
       " 'ак': 1,\n",
       " 'бр': 2,\n",
       " 'ви': 1,\n",
       " 'да': 1,\n",
       " 'де': 1,\n",
       " 'дл': 1,\n",
       " 'ед': 1,\n",
       " 'ем': 1,\n",
       " 'ен': 1,\n",
       " 'ес': 1,\n",
       " 'за': 1,\n",
       " 'ис': 1,\n",
       " 'ка': 2,\n",
       " 'ку': 3,\n",
       " 'ле': 1,\n",
       " 'ме': 1,\n",
       " 'не': 1,\n",
       " 'нн': 1,\n",
       " 'но': 1,\n",
       " 'ок': 2,\n",
       " 'оя': 1,\n",
       " 'по': 2,\n",
       " 'ра': 2,\n",
       " 'рс': 1,\n",
       " 'сь': 1,\n",
       " 'ся': 1,\n",
       " 'тк': 1,\n",
       " 'ур': 1,\n",
       " 'ус': 2,\n",
       " 'фо': 1,\n",
       " 'яв': 1,\n",
       " 'ят': 1}"
      ]
     },
     "execution_count": 3,
     "metadata": {},
     "output_type": "execute_result"
    }
   ],
   "source": [
    "freq = {}\n",
    "for key in bigram_list(string):\n",
    "    if key in freq:\n",
    "        freq[key] += 1\n",
    "    else:\n",
    "        freq[key] = 1\n",
    "        \n",
    "freq"
   ]
  },
  {
   "cell_type": "markdown",
   "metadata": {},
   "source": [
    "Проитерироваться по словарю, пока не встретится биграмма из двух одинаковых букв."
   ]
  },
  {
   "cell_type": "code",
   "execution_count": 4,
   "metadata": {
    "scrolled": false
   },
   "outputs": [
    {
     "name": "stdout",
     "output_type": "stream",
     "text": [
      "аб(2) -> False\n",
      "бр(2) -> False\n",
      "ра(2) -> False\n",
      "ак(1) -> False\n",
      "ка(2) -> False\n",
      "ад(1) -> False\n",
      "да(1) -> False\n",
      "фо(1) -> False\n",
      "ок(2) -> False\n",
      "ку(3) -> False\n",
      "ус(2) -> False\n",
      "по(2) -> False\n",
      "де(1) -> False\n",
      "ес(1) -> False\n",
      "ся(1) -> False\n",
      "ят(1) -> False\n",
      "тк(1) -> False\n",
      "за(1) -> False\n",
      "ур(1) -> False\n",
      "рс(1) -> False\n",
      "не(1) -> False\n",
      "ем(1) -> False\n",
      "ме(1) -> False\n",
      "ед(1) -> False\n",
      "дл(1) -> False\n",
      "ле(1) -> False\n",
      "ен(1) -> False\n",
      "нн(1) -> True\n",
      "но(1) -> False\n",
      "оя(1) -> False\n",
      "яв(1) -> False\n",
      "ви(1) -> False\n",
      "ис(1) -> False\n",
      "сь(1) -> False\n"
     ]
    }
   ],
   "source": [
    "for key in freq: \n",
    "    print('{first}{second}({number}) -> {result}'.format(first=key[0], second=key[1], number=freq[key], result=str(key[0] == key[1])))"
   ]
  },
  {
   "cell_type": "markdown",
   "metadata": {},
   "source": [
    "## Задание 2"
   ]
  },
  {
   "cell_type": "markdown",
   "metadata": {},
   "source": [
    "Даны два слова, ваша программа должна проверять является ли второе слово обратной записью первого слова."
   ]
  },
  {
   "cell_type": "code",
   "execution_count": 5,
   "metadata": {},
   "outputs": [],
   "source": [
    "def isreverse(s1, s2):\n",
    "    return s1 == s2[::-1]"
   ]
  },
  {
   "cell_type": "code",
   "execution_count": 6,
   "metadata": {},
   "outputs": [
    {
     "name": "stdout",
     "output_type": "stream",
     "text": [
      "True\n",
      "False\n"
     ]
    }
   ],
   "source": [
    "print(isreverse('кот', 'ток'))\n",
    "print(isreverse('черный', 'белый'))"
   ]
  },
  {
   "cell_type": "markdown",
   "metadata": {},
   "source": [
    "## Задание 3"
   ]
  },
  {
   "cell_type": "markdown",
   "metadata": {},
   "source": [
    "Игра «виселица». Функция принимает аргумент typos (количество попыток), file – словарь. "
   ]
  },
  {
   "cell_type": "code",
   "execution_count": 7,
   "metadata": {},
   "outputs": [],
   "source": [
    "from IPython.display import clear_output\n",
    "from numpy import random"
   ]
  },
  {
   "cell_type": "code",
   "execution_count": 8,
   "metadata": {},
   "outputs": [],
   "source": [
    "def game(typos: int, file=None):\n",
    "    _t = 0\n",
    "    content = []\n",
    "    if file is not None:\n",
    "        with open(file) as f:\n",
    "            content = f.readlines()\n",
    "        content = [x.strip() for x in content] \n",
    "    else:\n",
    "        content = ['синхронизация', 'революция', 'землевладение', 'волатильность', 'полиморфизм', 'проституция', 'булочка']\n",
    "    word = content[random.randint(0, len(content))]\n",
    "    opened = {}\n",
    "    used = {}\n",
    "    \n",
    "    for c in word:\n",
    "        opened[str.lower(c)] = False\n",
    "        \n",
    "    while _t < typos: \n",
    "        count = 0\n",
    "        for c in word:\n",
    "            if opened[str.lower(c)]:\n",
    "                count += 1\n",
    "                print(c, end='')\n",
    "            else:\n",
    "                print('_', end='')\n",
    "                \n",
    "        print('\\n')\n",
    "        print('Использованные: ', end='')\n",
    "        for c in used:\n",
    "            print(c, end=' ')\n",
    "                \n",
    "        print('\\n')        \n",
    "        if count == len(word):\n",
    "            print('Поздравляю! Вы победили!')\n",
    "            break\n",
    "            \n",
    "        print('открыто:', count, 'осталось:', len(word) - count)\n",
    "            \n",
    "        s = input()\n",
    "        clear_output()\n",
    "        if len(s) != 1 or not str.isalpha(s):\n",
    "            print('Введите букву')\n",
    "        elif (str.lower(s) in opened and opened[str.lower(s)]) or s in used:\n",
    "            print('Вы уже вводили эту букву')\n",
    "        elif str.lower(s) in opened and not opened[str.lower(s)]:\n",
    "            print('Вы нашли букву', s)\n",
    "            opened[str.lower(s)] = True\n",
    "        elif str.lower(s) not in opened:\n",
    "            _t += 1\n",
    "            print('Такой буквы в слове нет! Осталось попыток: ', typos - _t)\n",
    "            used[s] = True\n",
    "            if _t == typos:\n",
    "                print('Вы проиграли, было слово:', word)\n",
    "                \n",
    "        print('')\n"
   ]
  },
  {
   "cell_type": "code",
   "execution_count": 9,
   "metadata": {
    "scrolled": false
   },
   "outputs": [
    {
     "name": "stdout",
     "output_type": "stream",
     "text": [
      "Вы нашли букву н\n",
      "\n",
      "волатильность\n",
      "\n",
      "Использованные: р \n",
      "\n",
      "Поздравляю! Вы победили!\n"
     ]
    }
   ],
   "source": [
    "game(15)"
   ]
  }
 ],
 "metadata": {
  "kernelspec": {
   "display_name": "Python 3",
   "language": "python",
   "name": "python3"
  },
  "language_info": {
   "codemirror_mode": {
    "name": "ipython",
    "version": 3
   },
   "file_extension": ".py",
   "mimetype": "text/x-python",
   "name": "python",
   "nbconvert_exporter": "python",
   "pygments_lexer": "ipython3",
   "version": "3.6.4"
  }
 },
 "nbformat": 4,
 "nbformat_minor": 2
}
